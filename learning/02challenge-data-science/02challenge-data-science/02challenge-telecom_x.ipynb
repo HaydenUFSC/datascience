{
 "cells": [
  {
   "cell_type": "code",
   "execution_count": null,
   "id": "initial_id",
   "metadata": {
    "collapsed": true
   },
   "outputs": [],
   "source": ""
  },
  {
   "metadata": {},
   "cell_type": "markdown",
   "source": [
    "Investigar como as características pessoais dos clientes estão associadas à evasão (Churn).\n",
    "Isso nos ajuda a responder perguntas como:\n",
    "\n",
    "-    Homens ou mulheres evadem mais?\n",
    "-    Clientes idosos evadem mais?\n",
    "-    Ter parceiro(a) ou dependentes influencia na permanência?"
   ],
   "id": "8c194eb5ce8f9bfd"
  },
  {
   "metadata": {},
   "cell_type": "code",
   "outputs": [],
   "execution_count": null,
   "source": [
    "# Função para calcular taxa de churn por categoria\n",
    "def taxa_churn(col):\n",
    "    return df_encoded.groupby(col)['Churn'].mean().sort_values(ascending=False)\n",
    "\n",
    "\n",
    "# Aplicando nas variáveis demográficas\n",
    "print(\"📊 Taxa de evasão por gênero:\")\n",
    "print(taxa_churn('customer.gender'))\n",
    "\n",
    "print(\"\\n📊 Taxa de evasão por idade (SeniorCitizen):\")\n",
    "print(taxa_churn('customer.SeniorCitizen'))\n",
    "\n",
    "print(\"\\n📊 Taxa de evasão por parceiro(a):\")\n",
    "print(taxa_churn('customer.Partner'))\n",
    "\n",
    "print(\"\\n📊 Taxa de evasão por dependentes:\")\n",
    "print(taxa_churn('customer.Dependents'))\n"
   ],
   "id": "b30c0bf21faf405f"
  },
  {
   "metadata": {},
   "cell_type": "code",
   "outputs": [],
   "execution_count": null,
   "source": [
    "# Visualização de cada variável\n",
    "fig, axs = plt.subplots(2, 2, figsize=(12, 8))\n",
    "\n",
    "sns.barplot(x='customer.gender', y='Churn', data=df, ax=axs[0, 0])\n",
    "axs[0, 0].set_title('Churn por Gênero')\n",
    "\n",
    "sns.barplot(x='customer.SeniorCitizen', y='Churn', data=df, ax=axs[0, 1])\n",
    "axs[0, 1].set_title('Churn por Idade (Idoso)')\n",
    "\n",
    "sns.barplot(x='customer.Partner', y='Churn', data=df, ax=axs[1, 0])\n",
    "axs[1, 0].set_title('Churn por Parceiro(a)')\n",
    "\n",
    "sns.barplot(x='customer.Dependents', y='Churn', data=df, ax=axs[1, 1])\n",
    "axs[1, 1].set_title('Churn por Dependentes')\n",
    "\n",
    "plt.tight_layout()\n",
    "plt.show()\n"
   ],
   "id": "de3d0254890a98b6"
  }
 ],
 "metadata": {
  "kernelspec": {
   "display_name": "Python 3",
   "language": "python",
   "name": "python3"
  },
  "language_info": {
   "codemirror_mode": {
    "name": "ipython",
    "version": 2
   },
   "file_extension": ".py",
   "mimetype": "text/x-python",
   "name": "python",
   "nbconvert_exporter": "python",
   "pygments_lexer": "ipython2",
   "version": "2.7.6"
  }
 },
 "nbformat": 4,
 "nbformat_minor": 5
}
